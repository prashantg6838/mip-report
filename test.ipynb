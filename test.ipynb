{
 "cells": [
  {
   "cell_type": "code",
   "execution_count": 1,
   "metadata": {},
   "outputs": [],
   "source": [
    "import pandas as pd"
   ]
  },
  {
   "cell_type": "code",
   "execution_count": 10,
   "metadata": {},
   "outputs": [],
   "source": [
    "data = pd.read_csv(r\"C:\\Users\\PRASHANT\\Downloads\\status-report.csv\")\n"
   ]
  },
  {
   "cell_type": "code",
   "execution_count": 11,
   "metadata": {},
   "outputs": [
    {
     "data": {
      "text/html": [
       "<div>\n",
       "<style scoped>\n",
       "    .dataframe tbody tr th:only-of-type {\n",
       "        vertical-align: middle;\n",
       "    }\n",
       "\n",
       "    .dataframe tbody tr th {\n",
       "        vertical-align: top;\n",
       "    }\n",
       "\n",
       "    .dataframe thead th {\n",
       "        text-align: right;\n",
       "    }\n",
       "</style>\n",
       "<table border=\"1\" class=\"dataframe\">\n",
       "  <thead>\n",
       "    <tr style=\"text-align: right;\">\n",
       "      <th></th>\n",
       "      <th>UUID</th>\n",
       "      <th>User Type</th>\n",
       "      <th>User sub type</th>\n",
       "      <th>Declared State</th>\n",
       "      <th>District</th>\n",
       "      <th>Block</th>\n",
       "      <th>School Name</th>\n",
       "      <th>School ID</th>\n",
       "      <th>Declared Board</th>\n",
       "      <th>Org Name</th>\n",
       "      <th>...</th>\n",
       "      <th>Program ID</th>\n",
       "      <th>Project ID</th>\n",
       "      <th>Project Title</th>\n",
       "      <th>Project Objective</th>\n",
       "      <th>Project start date of the user</th>\n",
       "      <th>Project completion date of the user</th>\n",
       "      <th>Project Duration</th>\n",
       "      <th>Project last Synced date</th>\n",
       "      <th>Project Status</th>\n",
       "      <th>Certificate Status</th>\n",
       "    </tr>\n",
       "  </thead>\n",
       "  <tbody>\n",
       "    <tr>\n",
       "      <th>0</th>\n",
       "      <td>000013cb-4eca-4e90-8739-947d27622a0d</td>\n",
       "      <td>teacher</td>\n",
       "      <td>TEACHER</td>\n",
       "      <td>Bihar</td>\n",
       "      <td>Nawada</td>\n",
       "      <td>Kashichak</td>\n",
       "      <td>U.M.S Shumbha Par</td>\n",
       "      <td>10360402501</td>\n",
       "      <td>State (Bihar)</td>\n",
       "      <td>DIKSHA Custodian Org</td>\n",
       "      <td>...</td>\n",
       "      <td>PGM_Bihar_Project_Based_Learning_Program_Year2...</td>\n",
       "      <td>671fad42a94166000804c99e</td>\n",
       "      <td>' BH_प्रोजेक्ट बेस्ड लर्निंग आधारित माइक्रो इम...</td>\n",
       "      <td>' शिक्षक प्रोजेक्ट बेस्ड लर्निंग (PBL) शिक्षण ...</td>\n",
       "      <td>2024-10-28T15:26:58.533+05:30</td>\n",
       "      <td>Null</td>\n",
       "      <td>2 Weeks</td>\n",
       "      <td>Null</td>\n",
       "      <td>started</td>\n",
       "      <td>Null</td>\n",
       "    </tr>\n",
       "  </tbody>\n",
       "</table>\n",
       "<p>1 rows × 21 columns</p>\n",
       "</div>"
      ],
      "text/plain": [
       "                                   UUID User Type User sub type  \\\n",
       "0  000013cb-4eca-4e90-8739-947d27622a0d   teacher       TEACHER   \n",
       "\n",
       "  Declared State District      Block        School Name    School ID  \\\n",
       "0          Bihar   Nawada  Kashichak  U.M.S Shumbha Par  10360402501   \n",
       "\n",
       "  Declared Board              Org Name  ...  \\\n",
       "0  State (Bihar)  DIKSHA Custodian Org  ...   \n",
       "\n",
       "                                          Program ID  \\\n",
       "0  PGM_Bihar_Project_Based_Learning_Program_Year2...   \n",
       "\n",
       "                 Project ID  \\\n",
       "0  671fad42a94166000804c99e   \n",
       "\n",
       "                                       Project Title  \\\n",
       "0  ' BH_प्रोजेक्ट बेस्ड लर्निंग आधारित माइक्रो इम...   \n",
       "\n",
       "                                   Project Objective  \\\n",
       "0  ' शिक्षक प्रोजेक्ट बेस्ड लर्निंग (PBL) शिक्षण ...   \n",
       "\n",
       "  Project start date of the user Project completion date of the user  \\\n",
       "0  2024-10-28T15:26:58.533+05:30                                Null   \n",
       "\n",
       "  Project Duration Project last Synced date Project Status Certificate Status  \n",
       "0          2 Weeks                     Null        started               Null  \n",
       "\n",
       "[1 rows x 21 columns]"
      ]
     },
     "execution_count": 11,
     "metadata": {},
     "output_type": "execute_result"
    }
   ],
   "source": [
    "data.head(1)"
   ]
  },
  {
   "cell_type": "code",
   "execution_count": 13,
   "metadata": {},
   "outputs": [],
   "source": [
    "# Filter rows where [user type] = 'teacher'\n",
    "data = data[data['User sub type'] == 'TEACHER']"
   ]
  },
  {
   "cell_type": "code",
   "execution_count": 16,
   "metadata": {},
   "outputs": [],
   "source": [
    "# Step 2: Group data and calculate the required columns\n",
    "transformed_data = data.groupby(['District', 'Block', 'School Name', 'School ID'], as_index=False).agg(\n",
    "    TeachersStarted=('Project Status', lambda x: sum(x == 'started')),\n",
    "    TeachersInProgress=('Project Status', lambda x: sum(x == 'inprogress')),\n",
    "    TeachersSubmitted=('Project Status', lambda x: sum(x == 'submitted'))\n",
    ")"
   ]
  },
  {
   "cell_type": "code",
   "execution_count": 18,
   "metadata": {},
   "outputs": [
    {
     "data": {
      "text/html": [
       "<div>\n",
       "<style scoped>\n",
       "    .dataframe tbody tr th:only-of-type {\n",
       "        vertical-align: middle;\n",
       "    }\n",
       "\n",
       "    .dataframe tbody tr th {\n",
       "        vertical-align: top;\n",
       "    }\n",
       "\n",
       "    .dataframe thead th {\n",
       "        text-align: right;\n",
       "    }\n",
       "</style>\n",
       "<table border=\"1\" class=\"dataframe\">\n",
       "  <thead>\n",
       "    <tr style=\"text-align: right;\">\n",
       "      <th></th>\n",
       "      <th>District</th>\n",
       "      <th>Block</th>\n",
       "      <th>School Name</th>\n",
       "      <th>School ID</th>\n",
       "      <th>TeachersStarted</th>\n",
       "      <th>TeachersInProgress</th>\n",
       "      <th>TeachersSubmitted</th>\n",
       "    </tr>\n",
       "  </thead>\n",
       "  <tbody>\n",
       "    <tr>\n",
       "      <th>0</th>\n",
       "      <td>Araria</td>\n",
       "      <td>Araria</td>\n",
       "      <td>U.M.S Biri Dakbangla</td>\n",
       "      <td>10071205101</td>\n",
       "      <td>1</td>\n",
       "      <td>0</td>\n",
       "      <td>0</td>\n",
       "    </tr>\n",
       "  </tbody>\n",
       "</table>\n",
       "</div>"
      ],
      "text/plain": [
       "  District   Block           School Name    School ID  TeachersStarted  \\\n",
       "0   Araria  Araria  U.M.S Biri Dakbangla  10071205101                1   \n",
       "\n",
       "   TeachersInProgress  TeachersSubmitted  \n",
       "0                   0                  0  "
      ]
     },
     "execution_count": 18,
     "metadata": {},
     "output_type": "execute_result"
    }
   ],
   "source": [
    "transformed_data.head(1)"
   ]
  },
  {
   "cell_type": "code",
   "execution_count": 19,
   "metadata": {},
   "outputs": [],
   "source": [
    "# Calculate GRAND TOTAL\n",
    "transformed_data['GrandTotal'] = (\n",
    "    transformed_data['TeachersStarted'] +\n",
    "    transformed_data['TeachersInProgress'] +\n",
    "    transformed_data['TeachersSubmitted']\n",
    ")"
   ]
  },
  {
   "cell_type": "code",
   "execution_count": null,
   "metadata": {},
   "outputs": [],
   "source": []
  }
 ],
 "metadata": {
  "kernelspec": {
   "display_name": "my_env",
   "language": "python",
   "name": "python3"
  },
  "language_info": {
   "codemirror_mode": {
    "name": "ipython",
    "version": 3
   },
   "file_extension": ".py",
   "mimetype": "text/x-python",
   "name": "python",
   "nbconvert_exporter": "python",
   "pygments_lexer": "ipython3",
   "version": "3.11.4"
  },
  "orig_nbformat": 4
 },
 "nbformat": 4,
 "nbformat_minor": 2
}
